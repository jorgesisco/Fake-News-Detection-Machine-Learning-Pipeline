{
 "cells": [
  {
   "cell_type": "markdown",
   "id": "480db4cf-c314-4428-93d4-7547fa7bc8ce",
   "metadata": {},
   "source": [
    "# Collecting Textual News Data from Twitter\n"
   ]
  },
  {
   "cell_type": "markdown",
   "id": "3462a4af-0549-4065-931f-c0b38d8e5685",
   "metadata": {},
   "source": [
    "## Importing Dependencies"
   ]
  },
  {
   "cell_type": "code",
   "execution_count": 28,
   "id": "aa91b13a-5abe-4462-b404-bfc0ccbfd0ff",
   "metadata": {},
   "outputs": [],
   "source": [
    "from dotenv import load_dotenv\n",
    "import requests\n",
    "import json\n",
    "import os\n",
    "import tweepy\n",
    "import config\n",
    "import pandas as pd\n",
    "\n",
    "pd.options.display.max_columns = 999"
   ]
  },
  {
   "cell_type": "markdown",
   "id": "e36e209c-db8c-4996-b850-f63a35a83e28",
   "metadata": {},
   "source": [
    "## Setting Up Twitter API and Tokens from .env File"
   ]
  },
  {
   "cell_type": "code",
   "execution_count": 2,
   "id": "776d6419-0938-40a8-a19f-503049d37f52",
   "metadata": {},
   "outputs": [
    {
     "data": {
      "text/plain": [
       "True"
      ]
     },
     "execution_count": 2,
     "metadata": {},
     "output_type": "execute_result"
    }
   ],
   "source": [
    "load_dotenv()"
   ]
  },
  {
   "cell_type": "code",
   "execution_count": null,
   "id": "626d9dff-1df8-42c2-b660-5b0fe5ab918e",
   "metadata": {},
   "outputs": [],
   "source": [
    "# API_KEY = os.getenv(\"API_KEY\")\n",
    "# API_KEY_SECRET = os.getenv(\"API_KEY_SECRET\")\n",
    "# BEARER_TOKEN = os.getenv(\"BEARER_TOKEN\")\n",
    "# ACCESS_TOKEN = os.getenv(\"ACCESS_TOKEN\")\n",
    "# ACCESS_TOKEN_SECRET = os.getenv(\"ACCESS_TOKEN_SECRET\")\n"
   ]
  },
  {
   "cell_type": "markdown",
   "id": "f5d93073-d4b5-4d24-a44b-f78233ed5ee3",
   "metadata": {},
   "source": [
    "## Setting Up Twitter Screaper"
   ]
  },
  {
   "cell_type": "code",
   "execution_count": null,
   "id": "5157f2fc-124c-487b-92b1-1264014b90b3",
   "metadata": {},
   "outputs": [],
   "source": []
  },
  {
   "cell_type": "code",
   "execution_count": 57,
   "id": "fa3ee5c9-c9e2-41ab-bd2a-5fbc0bb8d39a",
   "metadata": {},
   "outputs": [],
   "source": [
    "# def getClient():\n",
    "    \n",
    "#     auth = tweepy.OAuthHandler(os.getenv(\"API_KEY\"), os.getenv(\"API_KEY_SECRET\"))\n",
    "#     auth.set_access_token(os.getenv(\"ACCESS_TOKEN\"), os.getenv(\"ACCESS_TOKEN_SECRET\"))\n",
    "#     api = tweepy.API(auth, wait_on_rate_limit = True)\n",
    "    \n",
    "#     return api\n",
    "\n",
    "    \n",
    "# def searchTweets(query, sprache):\n",
    "    \n",
    "#     api = getClient()\n",
    "    \n",
    "#     tweets = []\n",
    "#     ids = []\n",
    "#     username = []\n",
    "#     urlss = []\n",
    "\n",
    "#     search_req = api.search_tweets(q=query, tweet_mode='extended', lang=sprache, result_type='popular', count=1000)\n",
    "\n",
    "#     for i in search_req:\n",
    "#         tweets.append(i.full_text)\n",
    "#         ids.append(i.id)\n",
    "#         username.append(i.user.screen_name)\n",
    "#         urlss.append('https://twitter.com/{}/status/{}'.format(i.user.screen_name, i.id))\n",
    "        \n",
    "#     df = pd.DataFrame({'Tweets': tweets, 'User': username, 'ID': ids, 'URL': urlss})\n",
    "        \n",
    "#     return df\n",
    "\n",
    "\n",
    "\n",
    "\n",
    "def getClient():\n",
    "    \n",
    "    client = tweepy.Client(bearer_token= os.getenv(\"BEARER_TOKEN\"),\n",
    "                           consumer_key=os.getenv(\"API_KEY\"), \n",
    "                           consumer_secret=os.getenv(\"API_KEY_SECRET\"), \n",
    "                           access_token=os.getenv(\"ACCESS_TOKEN\"),\n",
    "                           access_token_secret=os.getenv(\"ACCESS_TOKEN_SECRET\"))\n",
    "\n",
    "    return client\n",
    "\n",
    "    \n",
    "def searchTweets(query):\n",
    "    \n",
    "    client = getClient()\n",
    "    \n",
    "    tweets = client.search_all_tweets(query=query, max_results=100)\n",
    "                                      \n",
    "    tweet_data = tweets.data\n",
    "                                      \n",
    "\n",
    "    tweets = []\n",
    "    ids = []\n",
    "   \n",
    "\n",
    "    if not tweet_data is None and len(tweet_data) > 0:\n",
    "        for tweet in tweet_data:\n",
    "            \n",
    "            \n",
    "            tweets.append(tweet.text)\n",
    "            ids.append(tweet.id)\n",
    "            \n",
    "            \n",
    "           \n",
    "    else:\n",
    "        return []\n",
    "    \n",
    "    df = pd.DataFrame({'Tweets': tweets, 'ID': ids})\n",
    "    df = df[~df.Tweets.str.contains(\"RT\")]\n",
    "                                      \n",
    "    return  df\n"
   ]
  },
  {
   "cell_type": "code",
   "execution_count": 58,
   "id": "b0bcf583-2d69-4850-a4e7-02401e684079",
   "metadata": {},
   "outputs": [],
   "source": [
    "df = searchTweets('COVID-19 news')\n",
    "    "
   ]
  },
  {
   "cell_type": "code",
   "execution_count": 60,
   "id": "608577c0-6564-44df-8f1d-6d3daa5330ec",
   "metadata": {},
   "outputs": [],
   "source": [
    "# df.to_csv('Data_1/Collected_Data.csv')"
   ]
  }
 ],
 "metadata": {
  "kernelspec": {
   "display_name": "ML-Fake-News-Pipeline",
   "language": "python",
   "name": "ml-fake-news-pipeline"
  },
  "language_info": {
   "codemirror_mode": {
    "name": "ipython",
    "version": 3
   },
   "file_extension": ".py",
   "mimetype": "text/x-python",
   "name": "python",
   "nbconvert_exporter": "python",
   "pygments_lexer": "ipython3",
   "version": "3.9.6"
  }
 },
 "nbformat": 4,
 "nbformat_minor": 5
}
