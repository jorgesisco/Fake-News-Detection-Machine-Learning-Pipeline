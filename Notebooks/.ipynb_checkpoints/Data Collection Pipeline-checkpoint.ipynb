{
 "cells": [
  {
   "cell_type": "markdown",
   "id": "480db4cf-c314-4428-93d4-7547fa7bc8ce",
   "metadata": {},
   "source": [
    "# Collecting Textual News Data from Twitter\n"
   ]
  },
  {
   "cell_type": "markdown",
   "id": "3462a4af-0549-4065-931f-c0b38d8e5685",
   "metadata": {},
   "source": [
    "## Importing Dependencies"
   ]
  },
  {
   "cell_type": "code",
   "execution_count": 2,
   "id": "aa91b13a-5abe-4462-b404-bfc0ccbfd0ff",
   "metadata": {},
   "outputs": [],
   "source": [
    "from dotenv import load_dotenv\n",
    "import requests\n",
    "import json\n",
    "import os\n",
    "import tweepy\n",
    "import config\n",
    "import pandas as pd"
   ]
  },
  {
   "cell_type": "markdown",
   "id": "e36e209c-db8c-4996-b850-f63a35a83e28",
   "metadata": {},
   "source": [
    "## Setting Up Twitter API and Tokens from .env File"
   ]
  },
  {
   "cell_type": "code",
   "execution_count": 3,
   "id": "776d6419-0938-40a8-a19f-503049d37f52",
   "metadata": {},
   "outputs": [
    {
     "data": {
      "text/plain": [
       "True"
      ]
     },
     "execution_count": 3,
     "metadata": {},
     "output_type": "execute_result"
    }
   ],
   "source": [
    "load_dotenv()"
   ]
  },
  {
   "cell_type": "code",
   "execution_count": null,
   "id": "626d9dff-1df8-42c2-b660-5b0fe5ab918e",
   "metadata": {},
   "outputs": [],
   "source": [
    "# API_KEY = os.getenv(\"API_KEY\")\n",
    "# API_KEY_SECRET = os.getenv(\"API_KEY_SECRET\")\n",
    "# BEARER_TOKEN = os.getenv(\"BEARER_TOKEN\")\n",
    "# ACCESS_TOKEN = os.getenv(\"ACCESS_TOKEN\")\n",
    "# ACCESS_TOKEN_SECRET = os.getenv(\"ACCESS_TOKEN_SECRET\")\n"
   ]
  },
  {
   "cell_type": "markdown",
   "id": "f5d93073-d4b5-4d24-a44b-f78233ed5ee3",
   "metadata": {},
   "source": [
    "## Setting Up Twitter Screaper"
   ]
  },
  {
   "cell_type": "code",
   "execution_count": null,
   "id": "5157f2fc-124c-487b-92b1-1264014b90b3",
   "metadata": {},
   "outputs": [],
   "source": []
  },
  {
   "cell_type": "code",
   "execution_count": 18,
   "id": "fa3ee5c9-c9e2-41ab-bd2a-5fbc0bb8d39a",
   "metadata": {},
   "outputs": [],
   "source": [
    "def getClient():\n",
    "    \n",
    "    auth = tweepy.OAuthHandler(os.getenv(\"API_KEY\"), os.getenv(\"API_KEY_SECRET\"))\n",
    "    auth.set_access_token(os.getenv(\"ACCESS_TOKEN\"), os.getenv(\"ACCESS_TOKEN_SECRET\"))\n",
    "    api = tweepy.API(auth, wait_on_rate_limit = True)\n",
    "    \n",
    "    return api\n",
    "\n",
    "    \n",
    "def searchTweets(query, sprache):\n",
    "    \n",
    "    api = getClient()\n",
    "    \n",
    "    tweets = []\n",
    "    ids = []\n",
    "    username = []\n",
    "    urlss = []\n",
    "\n",
    "    search_req = api.search_tweets(q=query, tweet_mode='extended', lang=sprache, result_type='popular', count=1000)\n",
    "\n",
    "    for i in search_req:\n",
    "        tweets.append(i.full_text)\n",
    "        ids.append(i.id)\n",
    "        username.append(i.user.screen_name)\n",
    "        urlss.append('https://twitter.com/{}/status/{}'.format(i.user.screen_name, i.id))\n",
    "        \n",
    "    df = pd.DataFrame({'Tweets': tweets, 'User': username, 'ID': ids, 'URL': urlss})\n",
    "        \n",
    "    return df\n",
    "\n"
   ]
  },
  {
   "cell_type": "code",
   "execution_count": 19,
   "id": "b0bcf583-2d69-4850-a4e7-02401e684079",
   "metadata": {},
   "outputs": [],
   "source": [
    "# tweets = searchTweets('covid-19 news')\n",
    "\n",
    "# if len(tweets) > 0:\n",
    "#     for x in tweets:\n",
    "#         print(x)\n",
    "# else:\n",
    "#     print(\"No matching tweets found :( \")\n",
    "\n",
    "df = searchTweets('COVID-19', 'en')"
   ]
  },
  {
   "cell_type": "code",
   "execution_count": 21,
   "id": "608577c0-6564-44df-8f1d-6d3daa5330ec",
   "metadata": {},
   "outputs": [
    {
     "data": {
      "text/html": [
       "<div>\n",
       "<style scoped>\n",
       "    .dataframe tbody tr th:only-of-type {\n",
       "        vertical-align: middle;\n",
       "    }\n",
       "\n",
       "    .dataframe tbody tr th {\n",
       "        vertical-align: top;\n",
       "    }\n",
       "\n",
       "    .dataframe thead th {\n",
       "        text-align: right;\n",
       "    }\n",
       "</style>\n",
       "<table border=\"1\" class=\"dataframe\">\n",
       "  <thead>\n",
       "    <tr style=\"text-align: right;\">\n",
       "      <th></th>\n",
       "      <th>Tweets</th>\n",
       "      <th>User</th>\n",
       "      <th>ID</th>\n",
       "      <th>URL</th>\n",
       "    </tr>\n",
       "  </thead>\n",
       "  <tbody>\n",
       "    <tr>\n",
       "      <th>0</th>\n",
       "      <td>NEW: Patients with Covid-19 may experience cha...</td>\n",
       "      <td>AnaCabrera</td>\n",
       "      <td>1500865562632769540</td>\n",
       "      <td>https://twitter.com/AnaCabrera/status/15008655...</td>\n",
       "    </tr>\n",
       "    <tr>\n",
       "      <th>1</th>\n",
       "      <td>Alberta calls for an end to 'pointless' federa...</td>\n",
       "      <td>ctvedmonton</td>\n",
       "      <td>1500677761396056068</td>\n",
       "      <td>https://twitter.com/ctvedmonton/status/1500677...</td>\n",
       "    </tr>\n",
       "    <tr>\n",
       "      <th>2</th>\n",
       "      <td>Florida Surgeon General Dr. Joseph Ladapo said...</td>\n",
       "      <td>newsmax</td>\n",
       "      <td>1500900333345595395</td>\n",
       "      <td>https://twitter.com/newsmax/status/15009003333...</td>\n",
       "    </tr>\n",
       "    <tr>\n",
       "      <th>3</th>\n",
       "      <td>2nd set of 4 Free At-Home COVID-19 Tests avail...</td>\n",
       "      <td>Wario64</td>\n",
       "      <td>1500829136385835012</td>\n",
       "      <td>https://twitter.com/Wario64/status/15008291363...</td>\n",
       "    </tr>\n",
       "    <tr>\n",
       "      <th>4</th>\n",
       "      <td>Prime Minister Justin Trudeau was dogged by pr...</td>\n",
       "      <td>TrueNorthCentre</td>\n",
       "      <td>1500984893819531267</td>\n",
       "      <td>https://twitter.com/TrueNorthCentre/status/150...</td>\n",
       "    </tr>\n",
       "    <tr>\n",
       "      <th>5</th>\n",
       "      <td>And those of us who criticised the approach fr...</td>\n",
       "      <td>DrHoenderkamp</td>\n",
       "      <td>1500815615761788929</td>\n",
       "      <td>https://twitter.com/DrHoenderkamp/status/15008...</td>\n",
       "    </tr>\n",
       "    <tr>\n",
       "      <th>6</th>\n",
       "      <td>A @UniofOxford study in @Nature found that Cov...</td>\n",
       "      <td>benryanwriter</td>\n",
       "      <td>1500865154967347204</td>\n",
       "      <td>https://twitter.com/benryanwriter/status/15008...</td>\n",
       "    </tr>\n",
       "    <tr>\n",
       "      <th>7</th>\n",
       "      <td>According to @FLSurgeonGen, Florida will becom...</td>\n",
       "      <td>karol</td>\n",
       "      <td>1500872868258881542</td>\n",
       "      <td>https://twitter.com/karol/status/1500872868258...</td>\n",
       "    </tr>\n",
       "    <tr>\n",
       "      <th>8</th>\n",
       "      <td>Covid-19 shows no signs of going away. How do ...</td>\n",
       "      <td>nytimes</td>\n",
       "      <td>1500897837634174976</td>\n",
       "      <td>https://twitter.com/nytimes/status/15008978376...</td>\n",
       "    </tr>\n",
       "    <tr>\n",
       "      <th>9</th>\n",
       "      <td>The global Covid-19 death toll hits a new grim...</td>\n",
       "      <td>cnnbrk</td>\n",
       "      <td>1500857065325137921</td>\n",
       "      <td>https://twitter.com/cnnbrk/status/150085706532...</td>\n",
       "    </tr>\n",
       "    <tr>\n",
       "      <th>10</th>\n",
       "      <td>BREAKING: The global COVID-19 death toll has h...</td>\n",
       "      <td>AP</td>\n",
       "      <td>1500772153322610690</td>\n",
       "      <td>https://twitter.com/AP/status/1500772153322610690</td>\n",
       "    </tr>\n",
       "    <tr>\n",
       "      <th>11</th>\n",
       "      <td>📸: Queen Elizabeth II held her first major in-...</td>\n",
       "      <td>ABC</td>\n",
       "      <td>1500833415205167104</td>\n",
       "      <td>https://twitter.com/ABC/status/150083341520516...</td>\n",
       "    </tr>\n",
       "    <tr>\n",
       "      <th>12</th>\n",
       "      <td>ASTRO's Moonbin And Sanha Test Positive For CO...</td>\n",
       "      <td>soompi</td>\n",
       "      <td>1500884643486343175</td>\n",
       "      <td>https://twitter.com/soompi/status/150088464348...</td>\n",
       "    </tr>\n",
       "    <tr>\n",
       "      <th>13</th>\n",
       "      <td>SEVENTEEN’s The8 Becomes 7th Member To Test Po...</td>\n",
       "      <td>soompi</td>\n",
       "      <td>1500680748629917699</td>\n",
       "      <td>https://twitter.com/soompi/status/150068074862...</td>\n",
       "    </tr>\n",
       "  </tbody>\n",
       "</table>\n",
       "</div>"
      ],
      "text/plain": [
       "                                               Tweets             User  \\\n",
       "0   NEW: Patients with Covid-19 may experience cha...       AnaCabrera   \n",
       "1   Alberta calls for an end to 'pointless' federa...      ctvedmonton   \n",
       "2   Florida Surgeon General Dr. Joseph Ladapo said...          newsmax   \n",
       "3   2nd set of 4 Free At-Home COVID-19 Tests avail...          Wario64   \n",
       "4   Prime Minister Justin Trudeau was dogged by pr...  TrueNorthCentre   \n",
       "5   And those of us who criticised the approach fr...    DrHoenderkamp   \n",
       "6   A @UniofOxford study in @Nature found that Cov...    benryanwriter   \n",
       "7   According to @FLSurgeonGen, Florida will becom...            karol   \n",
       "8   Covid-19 shows no signs of going away. How do ...          nytimes   \n",
       "9   The global Covid-19 death toll hits a new grim...           cnnbrk   \n",
       "10  BREAKING: The global COVID-19 death toll has h...               AP   \n",
       "11  📸: Queen Elizabeth II held her first major in-...              ABC   \n",
       "12  ASTRO's Moonbin And Sanha Test Positive For CO...           soompi   \n",
       "13  SEVENTEEN’s The8 Becomes 7th Member To Test Po...           soompi   \n",
       "\n",
       "                     ID                                                URL  \n",
       "0   1500865562632769540  https://twitter.com/AnaCabrera/status/15008655...  \n",
       "1   1500677761396056068  https://twitter.com/ctvedmonton/status/1500677...  \n",
       "2   1500900333345595395  https://twitter.com/newsmax/status/15009003333...  \n",
       "3   1500829136385835012  https://twitter.com/Wario64/status/15008291363...  \n",
       "4   1500984893819531267  https://twitter.com/TrueNorthCentre/status/150...  \n",
       "5   1500815615761788929  https://twitter.com/DrHoenderkamp/status/15008...  \n",
       "6   1500865154967347204  https://twitter.com/benryanwriter/status/15008...  \n",
       "7   1500872868258881542  https://twitter.com/karol/status/1500872868258...  \n",
       "8   1500897837634174976  https://twitter.com/nytimes/status/15008978376...  \n",
       "9   1500857065325137921  https://twitter.com/cnnbrk/status/150085706532...  \n",
       "10  1500772153322610690  https://twitter.com/AP/status/1500772153322610690  \n",
       "11  1500833415205167104  https://twitter.com/ABC/status/150083341520516...  \n",
       "12  1500884643486343175  https://twitter.com/soompi/status/150088464348...  \n",
       "13  1500680748629917699  https://twitter.com/soompi/status/150068074862...  "
      ]
     },
     "execution_count": 21,
     "metadata": {},
     "output_type": "execute_result"
    }
   ],
   "source": [
    "df"
   ]
  },
  {
   "cell_type": "code",
   "execution_count": null,
   "id": "7ee5acbf-9a95-4ac5-9bbd-ea3844d94c5a",
   "metadata": {},
   "outputs": [],
   "source": [
    "# number_of_tweets = 200\n",
    "tweets = []\n",
    "ids = []\n",
    "username = []\n",
    "urlss = []\n",
    "\n",
    "\n",
    "\n",
    "search_req = api.search_tweets(q='covid-19 news', tweet_mode='extended', lang='en', result_type='popular')\n",
    "\n",
    "for i in search_req:\n",
    "    tweets.append(i.full_text)\n",
    "    \n",
    "    ids.append(i.id)\n",
    "    username.append(i.user.screen_name)\n",
    "    urlss.append('https://twitter.com/{}/status/{}'.format(i.user.screen_name, i.id))\n",
    "    \n",
    "    \n",
    "# tweets = api.search_tweets(q='covid-19 news', tweet_mode='extended')\n"
   ]
  },
  {
   "cell_type": "code",
   "execution_count": null,
   "id": "834f828c-4aea-4717-8b04-f580754b76c4",
   "metadata": {},
   "outputs": [],
   "source": []
  },
  {
   "cell_type": "code",
   "execution_count": null,
   "id": "a9e96635-9b13-4606-89a6-033d94225930",
   "metadata": {},
   "outputs": [],
   "source": []
  },
  {
   "cell_type": "code",
   "execution_count": null,
   "id": "3ae842e1-18eb-415f-b2e4-66d76fc19607",
   "metadata": {},
   "outputs": [],
   "source": []
  },
  {
   "cell_type": "code",
   "execution_count": null,
   "id": "938d190f-cef2-409f-9c74-cd974370cdf2",
   "metadata": {},
   "outputs": [],
   "source": [
    "df = pd.DataFrame({'Tweets': tweets, 'User': username, 'ID': ids, 'URL': urlss})"
   ]
  },
  {
   "cell_type": "code",
   "execution_count": null,
   "id": "e3f6faa4-5124-44cf-9ab3-cb4ccea25d48",
   "metadata": {},
   "outputs": [],
   "source": [
    "df = df[~df.Tweets.str.contains(\"RT\")]"
   ]
  },
  {
   "cell_type": "code",
   "execution_count": null,
   "id": "29be5c73-6f56-44d5-bd7d-133cfe55b34d",
   "metadata": {},
   "outputs": [],
   "source": []
  },
  {
   "cell_type": "code",
   "execution_count": null,
   "id": "61b2345f-caa7-4fdd-bd06-5883607ebef8",
   "metadata": {},
   "outputs": [],
   "source": []
  },
  {
   "cell_type": "code",
   "execution_count": null,
   "id": "e5645506-8966-4862-b5ae-135b5e745468",
   "metadata": {},
   "outputs": [],
   "source": []
  }
 ],
 "metadata": {
  "kernelspec": {
   "display_name": "ML-Fake-News-Pipeline",
   "language": "python",
   "name": "ml-fake-news-pipeline"
  },
  "language_info": {
   "codemirror_mode": {
    "name": "ipython",
    "version": 3
   },
   "file_extension": ".py",
   "mimetype": "text/x-python",
   "name": "python",
   "nbconvert_exporter": "python",
   "pygments_lexer": "ipython3",
   "version": "3.9.6"
  }
 },
 "nbformat": 4,
 "nbformat_minor": 5
}
