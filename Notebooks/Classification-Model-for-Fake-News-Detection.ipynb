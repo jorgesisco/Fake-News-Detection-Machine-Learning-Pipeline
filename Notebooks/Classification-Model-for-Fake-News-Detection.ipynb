{
 "cells": [
  {
   "cell_type": "markdown",
   "id": "342f34ac",
   "metadata": {},
   "source": [
    "# Fake News Detector Machine Learning Model "
   ]
  },
  {
   "cell_type": "code",
   "execution_count": 1,
   "id": "e9ad8ce4",
   "metadata": {},
   "outputs": [],
   "source": [
    "import pandas as pd\n",
    "import numpy as np\n",
    "from sklearn.model_selection import train_test_split\n",
    "from sklearn.feature_extraction.text import TfidfVectorizer\n",
    "# from sklearn.metrics import classification_report\n",
    "# from sklearn.metrics import confusion_matrix\n",
    "from sklearn.linear_model import LogisticRegression\n",
    "from sklearn.model_selection import GridSearchCV \n",
    "from sklearn.metrics import accuracy_score \n",
    "from sklearn.metrics import precision_recall_fscore_support\n",
    "# import re\n",
    "# import string\n",
    "\n",
    "\n",
    "# Importing Function from script.py file\n",
    "from scripts import word_drop"
   ]
  },
  {
   "cell_type": "markdown",
   "id": "782460c3",
   "metadata": {},
   "source": [
    "# Loading The Datasets\n",
    "\n",
    "For this exploratory Pipeline, I am using two separated datasets I found on Google, one CSV file is the **true news dataset** and the other file is the ****fake news dataset****."
   ]
  },
  {
   "cell_type": "code",
   "execution_count": 2,
   "id": "5dd765b6",
   "metadata": {},
   "outputs": [
    {
     "data": {
      "text/html": [
       "<div>\n",
       "<style scoped>\n",
       "    .dataframe tbody tr th:only-of-type {\n",
       "        vertical-align: middle;\n",
       "    }\n",
       "\n",
       "    .dataframe tbody tr th {\n",
       "        vertical-align: top;\n",
       "    }\n",
       "\n",
       "    .dataframe thead th {\n",
       "        text-align: right;\n",
       "    }\n",
       "</style>\n",
       "<table border=\"1\" class=\"dataframe\">\n",
       "  <thead>\n",
       "    <tr style=\"text-align: right;\">\n",
       "      <th></th>\n",
       "      <th>Tweets</th>\n",
       "      <th>class</th>\n",
       "    </tr>\n",
       "  </thead>\n",
       "  <tbody>\n",
       "    <tr>\n",
       "      <th>0</th>\n",
       "      <td>covid  deaths are starting to decline in the n...</td>\n",
       "      <td>1</td>\n",
       "    </tr>\n",
       "    <tr>\n",
       "      <th>1</th>\n",
       "      <td>breaking news  in a reversal  the fda will wai...</td>\n",
       "      <td>1</td>\n",
       "    </tr>\n",
       "    <tr>\n",
       "      <th>2</th>\n",
       "      <td>belgium health minister puts ban on non essent...</td>\n",
       "      <td>0</td>\n",
       "    </tr>\n",
       "  </tbody>\n",
       "</table>\n",
       "</div>"
      ],
      "text/plain": [
       "                                              Tweets  class\n",
       "0  covid  deaths are starting to decline in the n...      1\n",
       "1  breaking news  in a reversal  the fda will wai...      1\n",
       "2  belgium health minister puts ban on non essent...      0"
      ]
     },
     "execution_count": 2,
     "metadata": {},
     "output_type": "execute_result"
    }
   ],
   "source": [
    "df = pd.read_csv('Datasets/df.csv')\n",
    "df = df.drop(['Unnamed: 0'], axis=1)\n",
    "df.head(3)\n"
   ]
  },
  {
   "cell_type": "markdown",
   "id": "89bd8444",
   "metadata": {},
   "source": [
    "# Defining our Dependent and Independent Variables"
   ]
  },
  {
   "cell_type": "code",
   "execution_count": 3,
   "id": "0a40f310",
   "metadata": {},
   "outputs": [],
   "source": [
    "x = df['Tweets']\n",
    "y = df['class']"
   ]
  },
  {
   "cell_type": "markdown",
   "id": "97fd6ff4",
   "metadata": {},
   "source": [
    "# Spliting the Data in Train and Test"
   ]
  },
  {
   "cell_type": "code",
   "execution_count": 4,
   "id": "39fcaad7",
   "metadata": {},
   "outputs": [
    {
     "name": "stdout",
     "output_type": "stream",
     "text": [
      "df (1386, 2)\n",
      "x_train (1039,)\n",
      "x_test (347,)\n",
      "y_train (1039,)\n",
      "y_test (347,)\n"
     ]
    }
   ],
   "source": [
    "x_train, x_test, y_train, y_test = train_test_split(x, y, test_size= .25)\n",
    "\n",
    "print('df', df.shape)\n",
    "print('x_train', x_train.shape)\n",
    "print('x_test', x_test.shape)\n",
    "print('y_train', y_train.shape)\n",
    "print('y_test', y_test.shape)"
   ]
  },
  {
   "cell_type": "markdown",
   "id": "7464f24a",
   "metadata": {},
   "source": [
    "# Vectorizing Data\n",
    "Using sklearn.feature_extraction.text.TfidfVectorizer\n",
    "// from sklearn.feature_extraction.text import TfidfVectorizer"
   ]
  },
  {
   "cell_type": "code",
   "execution_count": 5,
   "id": "3a714941",
   "metadata": {},
   "outputs": [],
   "source": [
    "vectorization = TfidfVectorizer()\n",
    "x_train_vectors = vectorization.fit_transform(x_train)\n",
    "x_test_vectors = vectorization.transform(x_test)"
   ]
  },
  {
   "cell_type": "code",
   "execution_count": 6,
   "id": "2c338bad-3ed1-4bcc-9a25-dc99250eb62c",
   "metadata": {},
   "outputs": [
    {
     "data": {
      "text/plain": [
       "(1039,)"
      ]
     },
     "execution_count": 6,
     "metadata": {},
     "output_type": "execute_result"
    }
   ],
   "source": [
    "x_train.shape"
   ]
  },
  {
   "cell_type": "markdown",
   "id": "b09448eb",
   "metadata": {},
   "source": [
    "# Model Selection\n",
    "\n",
    "## Training Logistic Regression Model"
   ]
  },
  {
   "cell_type": "code",
   "execution_count": 7,
   "id": "dee6247c-9152-4ae9-b5a0-17587a01dd56",
   "metadata": {},
   "outputs": [],
   "source": [
    "logModel = LogisticRegression()"
   ]
  },
  {
   "cell_type": "code",
   "execution_count": 116,
   "id": "e90b3660",
   "metadata": {},
   "outputs": [],
   "source": [
    "#For the gridsearch 2 parameter grids had be stablished because some of the parameters were not working one with the other.\n",
    "\n",
    "param_grid_1 = {'penalty': ['l2'],\n",
    "                'C': [1, 10, 100, 300, 400],\n",
    "                'solver':[\n",
    "                        'liblinear', \n",
    "                        'newton-cg'],\n",
    "                'max_iter': [ 100, 1000, 3000, 5000]\n",
    "}\n",
    "\n",
    "\n",
    "param_grid_2 = {'penalty': ['l1'],\n",
    "              'C': [1, 10, 100],\n",
    "              'solver': ['liblinear'],\n",
    "              'max_iter': [750]\n",
    "}\n",
    "\n",
    "\n",
    "clf_1 = GridSearchCV(logModel, param_grid = param_grid_1, cv = 3, verbose=True, n_jobs=-1)\n",
    "clf_2 = GridSearchCV(logModel, param_grid = param_grid_2, cv = 3, verbose=True, n_jobs=-1)\n"
   ]
  },
  {
   "cell_type": "code",
   "execution_count": 117,
   "id": "f53995f3-a3c9-4adf-bac9-b3b7d778eddb",
   "metadata": {},
   "outputs": [
    {
     "name": "stdout",
     "output_type": "stream",
     "text": [
      "Fitting 3 folds for each of 40 candidates, totalling 120 fits\n",
      "Fitting 3 folds for each of 3 candidates, totalling 9 fits\n"
     ]
    }
   ],
   "source": [
    "best_clf_1 = clf_1.fit(x_train_vectors, y_train)\n",
    "best_clf_2 = clf_2.fit(x_train_vectors, y_train)"
   ]
  },
  {
   "cell_type": "code",
   "execution_count": 134,
   "id": "2c634bd0-c649-4141-813d-291ba11982aa",
   "metadata": {},
   "outputs": [
    {
     "data": {
      "text/plain": [
       "{'C': 10, 'max_iter': 100, 'penalty': 'l2', 'solver': 'liblinear'}"
      ]
     },
     "execution_count": 134,
     "metadata": {},
     "output_type": "execute_result"
    }
   ],
   "source": [
    "best_clf_1.best_params_"
   ]
  },
  {
   "cell_type": "code",
   "execution_count": 162,
   "id": "a992f1af-4d4d-4bc2-bbb5-b3ac488e8c9a",
   "metadata": {},
   "outputs": [
    {
     "data": {
      "text/html": [
       "<div>\n",
       "<style scoped>\n",
       "    .dataframe tbody tr th:only-of-type {\n",
       "        vertical-align: middle;\n",
       "    }\n",
       "\n",
       "    .dataframe tbody tr th {\n",
       "        vertical-align: top;\n",
       "    }\n",
       "\n",
       "    .dataframe thead th {\n",
       "        text-align: right;\n",
       "    }\n",
       "</style>\n",
       "<table border=\"1\" class=\"dataframe\">\n",
       "  <thead>\n",
       "    <tr style=\"text-align: right;\">\n",
       "      <th></th>\n",
       "      <th>C</th>\n",
       "      <th>max_iter</th>\n",
       "      <th>penalty</th>\n",
       "      <th>solver</th>\n",
       "      <th>Score</th>\n",
       "    </tr>\n",
       "  </thead>\n",
       "  <tbody>\n",
       "    <tr>\n",
       "      <th>0</th>\n",
       "      <td>10</td>\n",
       "      <td>100</td>\n",
       "      <td>l2</td>\n",
       "      <td>liblinear</td>\n",
       "      <td>99.81</td>\n",
       "    </tr>\n",
       "    <tr>\n",
       "      <th>1</th>\n",
       "      <td>1</td>\n",
       "      <td>750</td>\n",
       "      <td>l1</td>\n",
       "      <td>liblinear</td>\n",
       "      <td>99.71</td>\n",
       "    </tr>\n",
       "  </tbody>\n",
       "</table>\n",
       "</div>"
      ],
      "text/plain": [
       "    C  max_iter penalty     solver  Score\n",
       "0  10       100      l2  liblinear  99.81\n",
       "1   1       750      l1  liblinear  99.71"
      ]
     },
     "execution_count": 162,
     "metadata": {},
     "output_type": "execute_result"
    }
   ],
   "source": [
    "d = {'col1': [1, 2], 'col2': [3, 4]}\n",
    "df = pd.DataFrame(data=d)\n",
    "\n",
    "data = {'C': [best_clf_1.best_params_['C'], best_clf_2.best_params_['C']], \n",
    "        'max_iter': [best_clf_1.best_params_['max_iter'], best_clf_2.best_params_['max_iter']],\n",
    "        'penalty': [best_clf_1.best_params_['penalty'], best_clf_2.best_params_['penalty']],\n",
    "        'solver': [best_clf_1.best_params_['solver'], best_clf_2.best_params_['solver']],\n",
    "        'Score': [\"{:.2f}\".format(best_clf_1.best_score_*100), \"{:.2f}\".format(best_clf_2.best_score_*100)]}\n",
    "\n",
    "\n",
    "best_hyperparameters = pd.DataFrame(data = data)\n",
    "best_hyperparameters"
   ]
  },
  {
   "cell_type": "code",
   "execution_count": 163,
   "id": "2d241a0f-6dad-45ea-bfc4-e559b28791ab",
   "metadata": {},
   "outputs": [
    {
     "data": {
      "text/plain": [
       "LogisticRegression()"
      ]
     },
     "execution_count": 163,
     "metadata": {},
     "output_type": "execute_result"
    }
   ],
   "source": [
    "model_1 = LogisticRegression()\n",
    "model_1.fit(x_train_vectors, y_train)"
   ]
  },
  {
   "cell_type": "markdown",
   "id": "e9f0722d",
   "metadata": {},
   "source": [
    "## Testing the Logistic Regression Model"
   ]
  },
  {
   "cell_type": "code",
   "execution_count": null,
   "id": "b63f97f3",
   "metadata": {},
   "outputs": [],
   "source": [
    "y_predicted = model_1.predict(x_test_vectors)\n",
    "accuracy = accuracy_score(y_test, y_predicted)\n",
    "precision, recall, f1, support = precision_recall_fscore_support(y_test, y_predicted) \n",
    "\n",
    "print(\"Accuracy = {:.2f}\".format(accuracy))\n",
    "print(\"Precision = \", precision)\n",
    "print(\"Recall = \", recall)\n",
    "print('F1-Score', f1)"
   ]
  },
  {
   "cell_type": "code",
   "execution_count": null,
   "id": "15ccca51-ea60-4b6d-b00f-604f001edf4d",
   "metadata": {},
   "outputs": [],
   "source": [
    "df_manual = pd.read_csv('Datasets/manual_testing.csv')\n",
    "df_manual = df_manual.drop(['Unnamed: 0'], axis=1)\n",
    "print(df_manual.shape)\n",
    "df_manual.head(3)"
   ]
  },
  {
   "cell_type": "code",
   "execution_count": null,
   "id": "7eb24c7e-33a2-4a7b-87ea-1fe61188e252",
   "metadata": {},
   "outputs": [],
   "source": [
    "df_manual_vect = vectorization.transform(df_manual.loc[0, ['Tweets']]).todense()\n",
    "\n"
   ]
  },
  {
   "cell_type": "code",
   "execution_count": null,
   "id": "70a51da8-3f06-460c-adf6-f9303b2b4199",
   "metadata": {},
   "outputs": [],
   "source": [
    "manual_prediction = model_1.predict(np.asarray(df_manual_vect))"
   ]
  },
  {
   "cell_type": "code",
   "execution_count": null,
   "id": "8a7c6061-7a33-4191-8134-69dcf0aab196",
   "metadata": {},
   "outputs": [],
   "source": [
    "manual_prediction"
   ]
  },
  {
   "cell_type": "code",
   "execution_count": null,
   "id": "650780b2-674f-45ec-a3d9-7afa35df9afa",
   "metadata": {},
   "outputs": [],
   "source": []
  }
 ],
 "metadata": {
  "kernelspec": {
   "display_name": "ML-Fake-News-Pipeline",
   "language": "python",
   "name": "ml-fake-news-pipeline"
  },
  "language_info": {
   "codemirror_mode": {
    "name": "ipython",
    "version": 3
   },
   "file_extension": ".py",
   "mimetype": "text/x-python",
   "name": "python",
   "nbconvert_exporter": "python",
   "pygments_lexer": "ipython3",
   "version": "3.9.6"
  }
 },
 "nbformat": 4,
 "nbformat_minor": 5
}
