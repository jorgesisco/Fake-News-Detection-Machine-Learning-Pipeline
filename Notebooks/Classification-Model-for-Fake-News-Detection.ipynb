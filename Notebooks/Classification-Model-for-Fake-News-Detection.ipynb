{
 "cells": [
  {
   "cell_type": "markdown",
   "id": "342f34ac",
   "metadata": {},
   "source": [
    "# Fake News Detector Machine Learning Model "
   ]
  },
  {
   "cell_type": "code",
   "execution_count": null,
   "id": "e9ad8ce4",
   "metadata": {},
   "outputs": [],
   "source": [
    "import pandas as pd\n",
    "import numpy as np\n",
    "from sklearn.model_selection import train_test_split\n",
    "from sklearn.feature_extraction.text import TfidfVectorizer\n",
    "# from sklearn.metrics import classification_report\n",
    "# from sklearn.metrics import confusion_matrix\n",
    "from sklearn.linear_model import LogisticRegression\n",
    "from sklearn.model_selection import GridSearchCV \n",
    "from sklearn.metrics import accuracy_score \n",
    "from sklearn.metrics import precision_recall_fscore_support\n",
    "# import re\n",
    "# import string\n",
    "\n",
    "\n",
    "# Importing Function from script.py file\n",
    "from scripts import word_drop"
   ]
  },
  {
   "cell_type": "markdown",
   "id": "782460c3",
   "metadata": {},
   "source": [
    "# Loading The Datasets\n",
    "\n",
    "For this exploratory Pipeline, I am using two separated datasets I found on Google, one CSV file is the **true news dataset** and the other file is the ****fake news dataset****."
   ]
  },
  {
   "cell_type": "code",
   "execution_count": null,
   "id": "5dd765b6",
   "metadata": {},
   "outputs": [],
   "source": [
    "df = pd.read_csv('Datasets/df.csv')\n",
    "df = df.drop(['Unnamed: 0'], axis=1)\n",
    "df.head(3)\n"
   ]
  },
  {
   "cell_type": "markdown",
   "id": "89bd8444",
   "metadata": {},
   "source": [
    "# Defining our Dependent and Independent Variables"
   ]
  },
  {
   "cell_type": "code",
   "execution_count": null,
   "id": "0a40f310",
   "metadata": {},
   "outputs": [],
   "source": [
    "x = df['Tweets']\n",
    "y = df['class']"
   ]
  },
  {
   "cell_type": "markdown",
   "id": "97fd6ff4",
   "metadata": {},
   "source": [
    "# Spliting the Data in Train and Test"
   ]
  },
  {
   "cell_type": "code",
   "execution_count": null,
   "id": "39fcaad7",
   "metadata": {},
   "outputs": [],
   "source": [
    "x_train, x_test, y_train, y_test = train_test_split(x, y, test_size= .25)\n",
    "\n",
    "print('df', df.shape)\n",
    "print('x_train', x_train.shape)\n",
    "print('x_test', x_test.shape)\n",
    "print('y_train', y_train.shape)\n",
    "print('y_test', y_test.shape)"
   ]
  },
  {
   "cell_type": "markdown",
   "id": "7464f24a",
   "metadata": {},
   "source": [
    "# Vectorizing Data\n",
    "Using sklearn.feature_extraction.text.TfidfVectorizer\n",
    "// from sklearn.feature_extraction.text import TfidfVectorizer"
   ]
  },
  {
   "cell_type": "code",
   "execution_count": null,
   "id": "3a714941",
   "metadata": {},
   "outputs": [],
   "source": [
    "vectorization = TfidfVectorizer()\n",
    "x_train_vectors = vectorization.fit_transform(x_train)\n",
    "x_test_vectors = vectorization.transform(x_test)"
   ]
  },
  {
   "cell_type": "code",
   "execution_count": null,
   "id": "2c338bad-3ed1-4bcc-9a25-dc99250eb62c",
   "metadata": {},
   "outputs": [],
   "source": [
    "x_train.shape"
   ]
  },
  {
   "cell_type": "markdown",
   "id": "b09448eb",
   "metadata": {},
   "source": [
    "# Model Selection\n",
    "\n",
    "## Training Logistic Regression Model"
   ]
  },
  {
   "cell_type": "code",
   "execution_count": null,
   "id": "dee6247c-9152-4ae9-b5a0-17587a01dd56",
   "metadata": {},
   "outputs": [],
   "source": [
    "logModel = LogisticRegression()"
   ]
  },
  {
   "cell_type": "code",
   "execution_count": null,
   "id": "e90b3660",
   "metadata": {},
   "outputs": [],
   "source": [
    "param_grig = {'penalty': ['l2', 'none'],\n",
    "              'C': [0.01, 0.1, 1, 10, 100],\n",
    "              'solver': ['liblinear', 'newton-cg', 'lbfgs', 'sag', 'saga'],\n",
    "              'max_iter': [200, 300, 500]\n",
    "}\n",
    "\n",
    "\n",
    "\n",
    "clf = GridSearchCV(logModel, param_grid = param_grig, cv = 3, verbose=True, n_jobs=-1)\n"
   ]
  },
  {
   "cell_type": "code",
   "execution_count": null,
   "id": "f53995f3-a3c9-4adf-bac9-b3b7d778eddb",
   "metadata": {},
   "outputs": [],
   "source": [
    "best_clf = clf.fit(x_train_vectors, y_train)"
   ]
  },
  {
   "cell_type": "code",
   "execution_count": null,
   "id": "a992f1af-4d4d-4bc2-bbb5-b3ac488e8c9a",
   "metadata": {},
   "outputs": [],
   "source": [
    "print(logModel.get_params().keys())"
   ]
  },
  {
   "cell_type": "code",
   "execution_count": null,
   "id": "2d241a0f-6dad-45ea-bfc4-e559b28791ab",
   "metadata": {},
   "outputs": [],
   "source": [
    "model_1 = LogisticRegression()\n",
    "model_1.fit(x_train_vectors, y_train)"
   ]
  },
  {
   "cell_type": "markdown",
   "id": "e9f0722d",
   "metadata": {},
   "source": [
    "## Testing the Logistic Regression Model"
   ]
  },
  {
   "cell_type": "code",
   "execution_count": null,
   "id": "b63f97f3",
   "metadata": {},
   "outputs": [],
   "source": [
    "y_predicted = model_1.predict(x_test_vectors)\n",
    "accuracy = accuracy_score(y_test, y_predicted)\n",
    "precision, recall, f1, support = precision_recall_fscore_support(y_test, y_predicted) \n",
    "\n",
    "print(\"Accuracy = {:.2f}\".format(accuracy))\n",
    "print(\"Precision = \", precision)\n",
    "print(\"Recall = \", recall)\n",
    "print('F1-Score', f1)"
   ]
  },
  {
   "cell_type": "code",
   "execution_count": null,
   "id": "15ccca51-ea60-4b6d-b00f-604f001edf4d",
   "metadata": {},
   "outputs": [],
   "source": [
    "df_manual = pd.read_csv('Datasets/manual_testing.csv')\n",
    "df_manual = df_manual.drop(['Unnamed: 0'], axis=1)\n",
    "print(df_manual.shape)\n",
    "df_manual.head(3)"
   ]
  },
  {
   "cell_type": "code",
   "execution_count": null,
   "id": "7eb24c7e-33a2-4a7b-87ea-1fe61188e252",
   "metadata": {},
   "outputs": [],
   "source": [
    "df_manual_vect = vectorization.transform(df_manual.loc[0, ['Tweets']]).todense()\n",
    "\n"
   ]
  },
  {
   "cell_type": "code",
   "execution_count": null,
   "id": "70a51da8-3f06-460c-adf6-f9303b2b4199",
   "metadata": {},
   "outputs": [],
   "source": [
    "manual_prediction = model_1.predict(np.asarray(df_manual_vect))"
   ]
  },
  {
   "cell_type": "code",
   "execution_count": null,
   "id": "8a7c6061-7a33-4191-8134-69dcf0aab196",
   "metadata": {},
   "outputs": [],
   "source": [
    "manual_prediction"
   ]
  },
  {
   "cell_type": "code",
   "execution_count": null,
   "id": "650780b2-674f-45ec-a3d9-7afa35df9afa",
   "metadata": {},
   "outputs": [],
   "source": []
  }
 ],
 "metadata": {
  "kernelspec": {
   "display_name": "ML-Fake-News-Pipeline",
   "language": "python",
   "name": "ml-fake-news-pipeline"
  },
  "language_info": {
   "codemirror_mode": {
    "name": "ipython",
    "version": 3
   },
   "file_extension": ".py",
   "mimetype": "text/x-python",
   "name": "python",
   "nbconvert_exporter": "python",
   "pygments_lexer": "ipython3",
   "version": "3.9.6"
  }
 },
 "nbformat": 4,
 "nbformat_minor": 5
}
